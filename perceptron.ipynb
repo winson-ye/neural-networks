{
 "cells": [
  {
   "cell_type": "code",
   "execution_count": 1,
   "metadata": {},
   "outputs": [],
   "source": [
    "import matplotlib.pyplot as plt"
   ]
  },
  {
   "cell_type": "code",
   "execution_count": 2,
   "metadata": {},
   "outputs": [],
   "source": [
    "def output(x1, x2, w0, w1, w2):\n",
    "    return w0 + w1*x1 + w2*x2"
   ]
  },
  {
   "cell_type": "code",
   "execution_count": 3,
   "metadata": {},
   "outputs": [],
   "source": [
    "def update(y, y_hat, x_j, eta):\n",
    "    return eta * (y - y_hat) * x_j"
   ]
  },
  {
   "cell_type": "code",
   "execution_count": 4,
   "metadata": {},
   "outputs": [],
   "source": [
    "def eval_line(x1, w0, w1, w2):\n",
    "    return ((-w1 / w2) * x1) + ((0.5 - w0) / w2)"
   ]
  },
  {
   "cell_type": "code",
   "execution_count": 5,
   "metadata": {},
   "outputs": [],
   "source": [
    "def activate(z):\n",
    "    if z > 0.5:\n",
    "        return 1\n",
    "    else:\n",
    "        return 0"
   ]
  },
  {
   "cell_type": "code",
   "execution_count": 6,
   "metadata": {},
   "outputs": [],
   "source": [
    "possible_values = [0, 1]\n",
    "data = []\n",
    "for x1 in possible_values:\n",
    "    for x2 in possible_values:\n",
    "        if x1 and x2:\n",
    "            target = 1\n",
    "        else:\n",
    "            target = 0\n",
    "        X = (x1, x2, target)\n",
    "        data.append(X)"
   ]
  },
  {
   "cell_type": "code",
   "execution_count": 7,
   "metadata": {},
   "outputs": [],
   "source": [
    "epochs = 2\n",
    "eta = 0.1\n",
    "w = [0 for i in range(3)]\n",
    "for epoch in range(epochs):\n",
    "    for x1, x2, y in data:\n",
    "        y_hat = activate(output(x1, x2, w[0], w[1], w[2]))\n",
    "        if y_hat != y:\n",
    "            w[0] += update(y, y_hat, 1, eta)\n",
    "            w[1] += update(y, y_hat, x1, eta)\n",
    "            w[2] += update(y, y_hat, x2, eta)"
   ]
  },
  {
   "cell_type": "code",
   "execution_count": 8,
   "metadata": {},
   "outputs": [
    {
     "data": {
      "text/plain": [
       "[<matplotlib.lines.Line2D at 0x7fd1ad666b50>]"
      ]
     },
     "execution_count": 8,
     "metadata": {},
     "output_type": "execute_result"
    },
    {
     "data": {
      "image/png": "[encoded data removed]",
      "text/plain": [
       "<Figure size 432x288 with 1 Axes>"
      ]
     },
     "metadata": {
      "needs_background": "light"
     },
     "output_type": "display_data"
    }
   ],
   "source": [
    "for x1, x2, y in data:\n",
    "    plt.plot(x1, x2, 'go' if y else 'ro')\n",
    "\n",
    "p1_x = 0\n",
    "p1_y = eval_line(p1_x, w[0], w[1], w[2])\n",
    "p2_x = 1\n",
    "p2_y = eval_line(p2_x, w[0], w[1], w[2])\n",
    "\n",
    "line_xs = [p1_x, p2_x]\n",
    "line_ys = [p1_y, p2_y]\n",
    "\n",
    "plt.plot(line_xs, line_ys)"
   ]
  },
  {
   "cell_type": "code",
   "execution_count": null,
   "metadata": {},
   "outputs": [],
   "source": []
  }
 ],
 "metadata": {
  "kernelspec": {
   "display_name": "Python 3",
   "language": "python",
   "name": "python3"
  },
  "language_info": {
   "codemirror_mode": {
    "name": "ipython",
    "version": 3
   },
   "file_extension": ".py",
   "mimetype": "text/x-python",
   "name": "python",
   "nbconvert_exporter": "python",
   "pygments_lexer": "ipython3",
   "version": "3.7.6"
  }
 },
 "nbformat": 4,
 "nbformat_minor": 4
}
